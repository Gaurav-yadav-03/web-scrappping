{
 "cells": [
  {
   "cell_type": "code",
   "execution_count": 3,
   "id": "c5bcd85a-5ab5-4623-bf9a-f35142a245ad",
   "metadata": {},
   "outputs": [
    {
     "name": "stdout",
     "output_type": "stream",
     "text": [
      "Requirement already satisfied: Flask in c:\\users\\igaur\\appdata\\local\\programs\\python\\python313\\lib\\site-packages (3.1.0)\n",
      "Requirement already satisfied: Werkzeug>=3.1 in c:\\users\\igaur\\appdata\\local\\programs\\python\\python313\\lib\\site-packages (from Flask) (3.1.3)\n",
      "Requirement already satisfied: Jinja2>=3.1.2 in c:\\users\\igaur\\appdata\\local\\programs\\python\\python313\\lib\\site-packages (from Flask) (3.1.5)\n",
      "Requirement already satisfied: itsdangerous>=2.2 in c:\\users\\igaur\\appdata\\local\\programs\\python\\python313\\lib\\site-packages (from Flask) (2.2.0)\n",
      "Requirement already satisfied: click>=8.1.3 in c:\\users\\igaur\\appdata\\local\\programs\\python\\python313\\lib\\site-packages (from Flask) (8.1.8)\n",
      "Requirement already satisfied: blinker>=1.9 in c:\\users\\igaur\\appdata\\local\\programs\\python\\python313\\lib\\site-packages (from Flask) (1.9.0)\n",
      "Requirement already satisfied: colorama in c:\\users\\igaur\\appdata\\local\\programs\\python\\python313\\lib\\site-packages (from click>=8.1.3->Flask) (0.4.6)\n",
      "Requirement already satisfied: MarkupSafe>=2.0 in c:\\users\\igaur\\appdata\\local\\programs\\python\\python313\\lib\\site-packages (from Jinja2>=3.1.2->Flask) (3.0.2)\n"
     ]
    }
   ],
   "source": [
    "!pip install Flask\n"
   ]
  },
  {
   "cell_type": "code",
   "execution_count": 2,
   "id": "589e9fba-cf63-4a8f-907d-7e7cdb787003",
   "metadata": {},
   "outputs": [
    {
     "name": "stdout",
     "output_type": "stream",
     "text": [
      "Starting Flask server on port 5001...Flask app is running in the background...\n",
      "\n"
     ]
    },
    {
     "name": "stderr",
     "output_type": "stream",
     "text": [
      "WARNING: This is a development server. Do not use it in a production deployment. Use a production WSGI server instead.\n",
      " * Running on http://127.0.0.1:5001\n",
      "Press CTRL+C to quit\n",
      "127.0.0.1 - - [25/Jan/2025 16:26:12] \"GET / HTTP/1.1\" 404 -\n",
      "127.0.0.1 - - [25/Jan/2025 16:26:12] \"GET / HTTP/1.1\" 404 -\n"
     ]
    },
    {
     "name": "stdout",
     "output_type": "stream",
     "text": [
      "Received request to scrape IPL data...\n"
     ]
    },
    {
     "name": "stderr",
     "output_type": "stream",
     "text": [
      "127.0.0.1 - - [25/Jan/2025 16:26:26] \"GET /scrape_ipl HTTP/1.1\" 200 -\n"
     ]
    },
    {
     "name": "stdout",
     "output_type": "stream",
     "text": [
      "Received request to scrape mobiles...\n"
     ]
    },
    {
     "name": "stderr",
     "output_type": "stream",
     "text": [
      "127.0.0.1 - - [25/Jan/2025 16:26:41] \"GET /scrape_mobiles HTTP/1.1\" 200 -\n"
     ]
    }
   ],
   "source": [
    "import requests\n",
    "import pandas as pd\n",
    "from bs4 import BeautifulSoup\n",
    "from flask import Flask, jsonify\n",
    "from werkzeug.serving import run_simple\n",
    "import threading\n",
    "\n",
    "# Initialize Flask app\n",
    "app = Flask(__name__)\n",
    "\n",
    "# Function to scrape mobile data from Flipkart\n",
    "def scrape_mobile_data():\n",
    "    Names = []\n",
    "    Prices = []\n",
    "    Descriptions = []\n",
    "    Reviews = []\n",
    "    \n",
    "    for i in range(1, 21):  # Scraping data from 20 pages\n",
    "        url = f\"https://www.flipkart.com/search?q=mobiles&otracker=search&otracker1=search&marketplace=FLIPKART&as-show=on&as=off&page={i}\"\n",
    "        r = requests.get(url)\n",
    "        \n",
    "        soup = BeautifulSoup(r.text, \"lxml\")\n",
    "        box = soup.find(\"div\", class_=\"DOjaWF gdgoEp\")\n",
    "        \n",
    "        if box is None:\n",
    "            print(\"No products found on page\", i)\n",
    "            continue\n",
    "\n",
    "        names = box.find_all(\"div\", class_=\"KzDlHZ\")\n",
    "        for name in names:\n",
    "            Names.append(name.text.strip())\n",
    "\n",
    "        prices = box.find_all(\"div\", class_=\"Nx9bqj _4b5DiR\")\n",
    "        for price in prices:\n",
    "            Prices.append(price.text.strip())\n",
    "\n",
    "        descriptions = box.find_all(\"div\", class_=\"_6NESgJ\")\n",
    "        for description in descriptions:\n",
    "            Descriptions.append(description.text.strip())\n",
    "\n",
    "        reviews = box.find_all(\"div\", class_=\"XQDdHH\")\n",
    "        for review in reviews:\n",
    "            Reviews.append(review.text.strip())\n",
    "\n",
    "    # Creating a DataFrame\n",
    "    df = pd.DataFrame({\n",
    "        \"Product_name\": Names,\n",
    "        \"price\": Prices,\n",
    "        \"description\": Descriptions,\n",
    "        \"Reviews\": Reviews\n",
    "    })\n",
    "    \n",
    "    return df\n",
    "\n",
    "# Function to scrape IPL data\n",
    "def scrape_ipl_data():\n",
    "    url = \"https://www.iplt20.com/auction/2022\"\n",
    "    r = requests.get(url)\n",
    "    soup = BeautifulSoup(r.text, \"lxml\")\n",
    "    table = soup.find(\"table\", class_=\"ih-td-tab auction-tbl\")\n",
    "\n",
    "    headers = table.find_all(\"th\")\n",
    "    titles = [i.text for i in headers]\n",
    "\n",
    "    df = pd.DataFrame(columns=titles)\n",
    "\n",
    "    rows = table.find_all(\"tr\")\n",
    "    for i in rows[1:]:\n",
    "        first_td = i.find_all(\"td\")[1].find(\"div\", class_=\"ih-pt-ic\").text.strip()\n",
    "        data = i.find_all(\"td\")[1:]\n",
    "        row = [tr.text.strip() for tr in data]\n",
    "        row.insert(0, first_td)\n",
    "        l = len(df)\n",
    "        df.loc[l] = row\n",
    "\n",
    "    return df\n",
    "\n",
    "# Flask route to fetch and return mobile data in JSON format\n",
    "@app.route(\"/scrape_mobiles\", methods=[\"GET\"])\n",
    "def get_mobile_data():\n",
    "    print(\"Received request to scrape mobiles...\")\n",
    "    df = scrape_mobile_data()\n",
    "    data = df.to_dict(orient='records')  # Convert DataFrame to a dictionary of records\n",
    "    return jsonify(data)\n",
    "\n",
    "# Flask route to fetch and return IPL data in JSON format\n",
    "@app.route(\"/scrape_ipl\", methods=[\"GET\"])\n",
    "def get_ipl_data():\n",
    "    print(\"Received request to scrape IPL data...\")\n",
    "    df = scrape_ipl_data()\n",
    "    data = df.to_dict(orient='records')  # Convert DataFrame to a dictionary of records\n",
    "    return jsonify(data)\n",
    "\n",
    "# Function to run Flask without blocking the Jupyter Notebook\n",
    "def run_flask():\n",
    "    print(\"Starting Flask server on port 5001...\")\n",
    "    run_simple('127.0.0.1', 5001, app)\n",
    "\n",
    "# Start Flask in a background thread\n",
    "thread = threading.Thread(target=run_flask)\n",
    "thread.start()\n",
    "\n",
    "print(\"Flask app is running in the background...\")\n"
   ]
  },
  {
   "cell_type": "code",
   "execution_count": 17,
   "id": "4e334387-a719-47ec-9c7a-1af8f59d07a6",
   "metadata": {},
   "outputs": [
    {
     "name": "stdout",
     "output_type": "stream",
     "text": [
      "C:\\Users\\igaur\\jupyter\n",
      "Reinitialized existing Git repository in C:/Users/igaur/jupyter/.git/\n"
     ]
    },
    {
     "name": "stderr",
     "output_type": "stream",
     "text": [
      "error: remote origin already exists.\n"
     ]
    },
    {
     "name": "stdout",
     "output_type": "stream",
     "text": [
      "On branch main\n",
      "\n",
      "No commits yet\n",
      "\n",
      "Untracked files:\n",
      "  (use \"git add <file>...\" to include in what will be committed)\n",
      "\t.ipynb_checkpoints/\n",
      "\tUntitled.ipynb\n",
      "\tUntitled1.ipynb\n",
      "\tflask.ipynb\n",
      "\tfull_table_data.csv\n",
      "\tipl.csv\n",
      "\tmobile_data.csv\n",
      "\tproducts_details\n",
      "\tproducts_details.csv\n",
      "\tstock.csv\n",
      "\ttable_data.csv\n",
      "\n",
      "nothing added to commit but untracked files present (use \"git add\" to track)\n"
     ]
    },
    {
     "name": "stderr",
     "output_type": "stream",
     "text": [
      "warning: in the working copy of '.ipynb_checkpoints/Untitled-checkpoint.ipynb', LF will be replaced by CRLF the next time Git touches it\n",
      "warning: in the working copy of '.ipynb_checkpoints/Untitled1-checkpoint.ipynb', LF will be replaced by CRLF the next time Git touches it\n",
      "warning: in the working copy of '.ipynb_checkpoints/flask-checkpoint.ipynb', LF will be replaced by CRLF the next time Git touches it\n",
      "warning: in the working copy of '.ipynb_checkpoints/ipl-checkpoint.csv', LF will be replaced by CRLF the next time Git touches it\n",
      "warning: in the working copy of '.ipynb_checkpoints/stock-checkpoint.csv', LF will be replaced by CRLF the next time Git touches it\n",
      "warning: in the working copy of 'Untitled.ipynb', LF will be replaced by CRLF the next time Git touches it\n",
      "warning: in the working copy of 'Untitled1.ipynb', LF will be replaced by CRLF the next time Git touches it\n",
      "warning: in the working copy of 'flask.ipynb', LF will be replaced by CRLF the next time Git touches it\n",
      "warning: in the working copy of 'ipl.csv', LF will be replaced by CRLF the next time Git touches it\n",
      "warning: in the working copy of 'stock.csv', LF will be replaced by CRLF the next time Git touches it\n"
     ]
    }
   ],
   "source": [
    "%cd C:/Users/igaur/jupyter\n",
    "!git init\n",
    "!git remote add origin https://github.com/Gaurav-yadav-03/web-scrappping.git\n",
    "!git status\n",
    "!git add .\n",
    "\n",
    "\n"
   ]
  },
  {
   "cell_type": "code",
   "execution_count": null,
   "id": "89caf49c-d3a5-479b-9868-6cb42c47797d",
   "metadata": {},
   "outputs": [],
   "source": []
  }
 ],
 "metadata": {
  "kernelspec": {
   "display_name": "Python 3 (ipykernel)",
   "language": "python",
   "name": "python3"
  },
  "language_info": {
   "codemirror_mode": {
    "name": "ipython",
    "version": 3
   },
   "file_extension": ".py",
   "mimetype": "text/x-python",
   "name": "python",
   "nbconvert_exporter": "python",
   "pygments_lexer": "ipython3",
   "version": "3.13.1"
  }
 },
 "nbformat": 4,
 "nbformat_minor": 5
}
