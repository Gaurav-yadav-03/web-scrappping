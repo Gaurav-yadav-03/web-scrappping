{
 "cells": [
  {
   "cell_type": "code",
   "execution_count": 21,
   "id": "89daa613-eb62-47a1-b555-86f3e5470a70",
   "metadata": {
    "jupyter": {
     "source_hidden": true
    }
   },
   "outputs": [],
   "source": [
    "import requests\n",
    "from bs4 import BeautifulSoup\n",
    "\n",
    "url=\"https://webscraper.io/test-sites/e-commerce/allinone/computers/tablets\"\n",
    "\n",
    "r=requests.get(url)\n",
    "\n",
    "soup=BeautifulSoup(r.text,\"lxml\")\n",
    "price=(soup.find(\"p\",{\"class\":\"description\"}))\n",
    "print(price.string)\n"
   ]
  },
  {
   "cell_type": "code",
   "execution_count": 51,
   "id": "bbebe182-0fae-4841-b27e-9164b052ef3f",
   "metadata": {
    "collapsed": true,
    "jupyter": {
     "outputs_hidden": true,
     "source_hidden": true
    }
   },
   "outputs": [
    {
     "name": "stdout",
     "output_type": "stream",
     "text": [
      "$69.99\n",
      "$88.99\n",
      "$96.99\n",
      "$97.99\n",
      "$99.99\n",
      "$101.99\n",
      "$102.99\n",
      "$103.99\n",
      "$107.99\n",
      "$121.99\n",
      "$130.99\n",
      "$148.99\n",
      "$172.99\n",
      "$233.99\n",
      "$251.99\n",
      "$320.99\n",
      "$399.99\n",
      "$489.99\n",
      "$537.99\n",
      "$587.99\n",
      "$603.99\n",
      "7\" screen, Android\n",
      "Black, 7\" IPS, Quad-Core 1.2GHz, 8GB, Android 4.2\n",
      "7\" screen, Android, 16GB\n",
      "7\", 8GB, Wi-Fi, Android 4.2, White\n",
      "Black, 7\", 1.6GHz Dual-Core, 8GB, Android 4.4\n",
      "IPS, Dual-Core 1.2GHz, 8GB, Android 4.3\n",
      "7\" screen, Android, 8GB\n",
      "6\" screen, wifi\n",
      "7\", 8GB, Wi-Fi, Android 4.2, Yellow\n",
      "Blue, 8\" IPS, Quad-Core 1.3GHz, 16GB, Android 4.2\n",
      "White, 7\", Atom 1.2GHz, 8GB, Android 4.4\n",
      "Blue, 7\" IPS, Quad-Core 1.3GHz, 8GB, 3G, Android 4.2\n",
      "Silver, 7\" IPS, Quad-Core 1.2Ghz, 16GB, 3G, Android 4.2\n",
      "LTE (SM-T235), Quad-Core 1.2GHz, 8GB, Black\n",
      "16GB, White\n",
      "White, 10.1\" IPS, 1.6GHz, 2GB, 16GB, Android 4.2\n",
      "10.1\", 3G, Android 4.0, Garnet Red\n",
      "12.2\", 32GB, WiFi, Android 4.4, White\n",
      "Wi-Fi + Cellular, 32GB, Silver\n",
      "10.1\", 32GB, Black\n",
      "Wi-Fi, 64GB, Silver\n"
     ]
    }
   ],
   "source": [
    "import requests\n",
    "\n",
    "from bs4 import BeautifulSoup\n",
    "\n",
    "url=\"https://webscraper.io/test-sites/e-commerce/allinone/computers/tablets\"\n",
    "r=requests.get(url)\n",
    "soup=BeautifulSoup(r.text,\"lxml\")\n",
    "price=soup.find_all(\"h4\",class_=\"pull-right\")\n",
    "# print(len(price))\n",
    "\n",
    "for i in price:\n",
    "   print(i.string)\n",
    "\n",
    "des= soup.find_all(\"p\",class_=\"description\")\n",
    "for i in des:\n",
    "    print(i.string)\n",
    "\n"
   ]
  },
  {
   "cell_type": "code",
   "execution_count": 31,
   "id": "2ecbffdf-b67d-4294-8d80-613c3e697ec2",
   "metadata": {
    "jupyter": {
     "source_hidden": true
    }
   },
   "outputs": [
    {
     "name": "stdout",
     "output_type": "stream",
     "text": [
      "['Galaxy Tab 3', 'Galaxy Tab 3', 'Galaxy Tab 4', 'Galaxy Tab', 'Galaxy Note', 'Galaxy Note', 'Galaxy Note 10...']\n"
     ]
    }
   ],
   "source": [
    "import requests\n",
    "from bs4 import BeautifulSoup\n",
    "import re\n",
    "url=\"https://webscraper.io/test-sites/e-commerce/allinone/computers/tablets\"\n",
    "r=requests.get(url)\n",
    "\n",
    "soup=BeautifulSoup(r.text,\"lxml\")\n",
    "data=soup.find_all(string=re.compile(\"Galaxy\"))\n",
    "print(data)\n",
    "for i in data:\n",
    "    pri"
   ]
  },
  {
   "cell_type": "code",
   "execution_count": 24,
   "id": "44c6609a-2300-4eb6-99e7-26f9dbb2b799",
   "metadata": {
    "collapsed": true,
    "jupyter": {
     "outputs_hidden": true
    }
   },
   "outputs": [
    {
     "name": "stdout",
     "output_type": "stream",
     "text": [
      "Requirement already satisfied: pandas in c:\\users\\igaur\\appdata\\local\\programs\\python\\python313\\lib\\site-packages (2.2.3)\n",
      "Requirement already satisfied: numpy>=1.26.0 in c:\\users\\igaur\\appdata\\local\\programs\\python\\python313\\lib\\site-packages (from pandas) (2.2.1)\n",
      "Requirement already satisfied: python-dateutil>=2.8.2 in c:\\users\\igaur\\appdata\\local\\programs\\python\\python313\\lib\\site-packages (from pandas) (2.9.0.post0)\n",
      "Requirement already satisfied: pytz>=2020.1 in c:\\users\\igaur\\appdata\\local\\programs\\python\\python313\\lib\\site-packages (from pandas) (2024.2)\n",
      "Requirement already satisfied: tzdata>=2022.7 in c:\\users\\igaur\\appdata\\local\\programs\\python\\python313\\lib\\site-packages (from pandas) (2024.2)\n",
      "Requirement already satisfied: six>=1.5 in c:\\users\\igaur\\appdata\\local\\programs\\python\\python313\\lib\\site-packages (from python-dateutil>=2.8.2->pandas) (1.17.0)\n",
      "Requirement already satisfied: openpyxl in c:\\users\\igaur\\appdata\\local\\programs\\python\\python313\\lib\\site-packages (3.1.5)\n",
      "Requirement already satisfied: et-xmlfile in c:\\users\\igaur\\appdata\\local\\programs\\python\\python313\\lib\\site-packages (from openpyxl) (2.0.0)\n"
     ]
    }
   ],
   "source": [
    "!pip install pandas\n",
    "!pip install openpyxl"
   ]
  },
  {
   "cell_type": "code",
   "execution_count": 23,
   "id": "bca1cf4f-aff6-4105-a71f-c2b8db65a8e3",
   "metadata": {
    "collapsed": true,
    "jupyter": {
     "outputs_hidden": true,
     "source_hidden": true
    }
   },
   "outputs": [
    {
     "name": "stdout",
     "output_type": "stream",
     "text": [
      "['Lenovo IdeaTab', 'IdeaTab A3500L', 'Acer Iconia', 'Galaxy Tab 3', 'Iconia B1-730H...', 'Memo Pad HD 7', 'Asus MeMO Pad', 'Amazon Kindle', 'Galaxy Tab 3', 'IdeaTab A8-50', 'MeMO Pad 7', 'IdeaTab A3500-...', 'IdeaTab S5000', 'Galaxy Tab 4', 'Galaxy Tab', 'MeMo PAD FHD 1...', 'Galaxy Note', 'Galaxy Note', 'iPad Mini Reti...', 'Galaxy Note 10...', 'Apple iPad Air']\n",
      "['$69.99', '$88.99', '$96.99', '$97.99', '$99.99', '$101.99', '$102.99', '$103.99', '$107.99', '$121.99', '$130.99', '$148.99', '$172.99', '$233.99', '$251.99', '$320.99', '$399.99', '$489.99', '$537.99', '$587.99', '$603.99']\n",
      "['7\" screen, Android', 'Black, 7\" IPS, Quad-Core 1.2GHz, 8GB, Android 4.2', '7\" screen, Android, 16GB', '7\", 8GB, Wi-Fi, Android 4.2, White', 'Black, 7\", 1.6GHz Dual-Core, 8GB, Android 4.4', 'IPS, Dual-Core 1.2GHz, 8GB, Android 4.3', '7\" screen, Android, 8GB', '6\" screen, wifi', '7\", 8GB, Wi-Fi, Android 4.2, Yellow', 'Blue, 8\" IPS, Quad-Core 1.3GHz, 16GB, Android 4.2', 'White, 7\", Atom 1.2GHz, 8GB, Android 4.4', 'Blue, 7\" IPS, Quad-Core 1.3GHz, 8GB, 3G, Android 4.2', 'Silver, 7\" IPS, Quad-Core 1.2Ghz, 16GB, 3G, Android 4.2', 'LTE (SM-T235), Quad-Core 1.2GHz, 8GB, Black', '16GB, White', 'White, 10.1\" IPS, 1.6GHz, 2GB, 16GB, Android 4.2', '10.1\", 3G, Android 4.0, Garnet Red', '12.2\", 32GB, WiFi, Android 4.4, White', 'Wi-Fi + Cellular, 32GB, Silver', '10.1\", 32GB, Black', 'Wi-Fi, 64GB, Silver']\n",
      "['7 reviews', '7 reviews', '7 reviews', '2 reviews', '1 reviews', '10 reviews', '14 reviews', '3 reviews', '14 reviews', '13 reviews', '11 reviews', '9 reviews', '8 reviews', '1 reviews', '14 reviews', '7 reviews', '12 reviews', '9 reviews', '8 reviews', '6 reviews', '7 reviews']\n",
      "         Product_name    price  \\\n",
      "0      Lenovo IdeaTab   $69.99   \n",
      "1      IdeaTab A3500L   $88.99   \n",
      "2         Acer Iconia   $96.99   \n",
      "3        Galaxy Tab 3   $97.99   \n",
      "4   Iconia B1-730H...   $99.99   \n",
      "5       Memo Pad HD 7  $101.99   \n",
      "6       Asus MeMO Pad  $102.99   \n",
      "7       Amazon Kindle  $103.99   \n",
      "8        Galaxy Tab 3  $107.99   \n",
      "9       IdeaTab A8-50  $121.99   \n",
      "10         MeMO Pad 7  $130.99   \n",
      "11  IdeaTab A3500-...  $148.99   \n",
      "12      IdeaTab S5000  $172.99   \n",
      "13       Galaxy Tab 4  $233.99   \n",
      "14         Galaxy Tab  $251.99   \n",
      "15  MeMo PAD FHD 1...  $320.99   \n",
      "16        Galaxy Note  $399.99   \n",
      "17        Galaxy Note  $489.99   \n",
      "18  iPad Mini Reti...  $537.99   \n",
      "19  Galaxy Note 10...  $587.99   \n",
      "20     Apple iPad Air  $603.99   \n",
      "\n",
      "                                          description     Reviews  \n",
      "0                                  7\" screen, Android   7 reviews  \n",
      "1   Black, 7\" IPS, Quad-Core 1.2GHz, 8GB, Android 4.2   7 reviews  \n",
      "2                            7\" screen, Android, 16GB   7 reviews  \n",
      "3                  7\", 8GB, Wi-Fi, Android 4.2, White   2 reviews  \n",
      "4       Black, 7\", 1.6GHz Dual-Core, 8GB, Android 4.4   1 reviews  \n",
      "5             IPS, Dual-Core 1.2GHz, 8GB, Android 4.3  10 reviews  \n",
      "6                             7\" screen, Android, 8GB  14 reviews  \n",
      "7                                     6\" screen, wifi   3 reviews  \n",
      "8                 7\", 8GB, Wi-Fi, Android 4.2, Yellow  14 reviews  \n",
      "9   Blue, 8\" IPS, Quad-Core 1.3GHz, 16GB, Android 4.2  13 reviews  \n",
      "10           White, 7\", Atom 1.2GHz, 8GB, Android 4.4  11 reviews  \n",
      "11  Blue, 7\" IPS, Quad-Core 1.3GHz, 8GB, 3G, Andro...   9 reviews  \n",
      "12  Silver, 7\" IPS, Quad-Core 1.2Ghz, 16GB, 3G, An...   8 reviews  \n",
      "13        LTE (SM-T235), Quad-Core 1.2GHz, 8GB, Black   1 reviews  \n",
      "14                                        16GB, White  14 reviews  \n",
      "15   White, 10.1\" IPS, 1.6GHz, 2GB, 16GB, Android 4.2   7 reviews  \n",
      "16                 10.1\", 3G, Android 4.0, Garnet Red  12 reviews  \n",
      "17              12.2\", 32GB, WiFi, Android 4.4, White   9 reviews  \n",
      "18                     Wi-Fi + Cellular, 32GB, Silver   8 reviews  \n",
      "19                                 10.1\", 32GB, Black   6 reviews  \n",
      "20                                Wi-Fi, 64GB, Silver   7 reviews  \n",
      "21 21 21 21\n"
     ]
    }
   ],
   "source": [
    "import requests \n",
    "from bs4 import BeautifulSoup\n",
    "import pandas as pd\n",
    "url=\"https://webscraper.io/test-sites/e-commerce/allinone/computers/tablets\"\n",
    "\n",
    "r= requests.get(url)\n",
    "soup =BeautifulSoup(r.text,\"lxml\")\n",
    "names=soup.find_all(\"a\", class_=\"title\")\n",
    "\n",
    "product_name=[]\n",
    "\n",
    "for i in names:\n",
    "    name=i.text\n",
    "    product_name.append(name)\n",
    "print(product_name)\n",
    "\n",
    "prices= soup.find_all(\"h4\",class_=\"price float-end card-title pull-right\")\n",
    "\n",
    "price_list=[]\n",
    "for i in prices:\n",
    "    price=i.text\n",
    "    price_list.append(price)\n",
    "print(price_list)\n",
    "\n",
    "des=soup.find_all(\"p\",class_=\"description card-text\")\n",
    "des_list=[]\n",
    "for i in des:\n",
    "    des=i.text\n",
    "    des_list.append(des)\n",
    "print(des_list)\n",
    "\n",
    "reviews=soup.find_all(\"p\",class_=\"review-count float-end\")\n",
    "review_list=[]\n",
    "for i in reviews:\n",
    "    rew=i.text\n",
    "    review_list.append(rew)\n",
    "print(review_list)\n",
    "\n",
    "df= pd.DataFrame({\"Product_name\":product_name,\"price\":price_list,\"description\":des_list,\"Reviews\":review_list})\n",
    "print(df)\n",
    "\n",
    "df.to_csv(\"products_details.csv\")\n",
    "print(len(product_name), len(price_list), len(des_list), len(review_list))"
   ]
  },
  {
   "cell_type": "code",
   "execution_count": 52,
   "id": "96bdafc8-2e45-4598-809f-6237723d0569",
   "metadata": {
    "collapsed": true,
    "jupyter": {
     "outputs_hidden": true,
     "source_hidden": true
    }
   },
   "outputs": [
    {
     "name": "stdout",
     "output_type": "stream",
     "text": [
      "                     Company PriceRs. Day HighRs.\n",
      "0    \\nFabtech Tech. Clean\\n   289.30      289.30\n",
      "1     \\nJaykay Enterprises\\n   165.10      167.00\n",
      "2               \\nPG Foils\\n   315.70      330.00\n",
      "3        \\nAarnav Fashions\\n    73.52       74.90\n",
      "4                    \\nMPS\\n  2480.15     2513.40\n",
      "5   \\nIndobell Insulations\\n   137.00      142.30\n",
      "6    \\nAeroflex Industries\\n   244.80      262.20\n",
      "7      \\nFervent Synergies\\n    31.58       31.58\n",
      "8          \\nTera Software\\n   241.75      241.75\n",
      "9        \\nGTV Engineering\\n   701.50      736.95\n",
      "10  \\nColab Cloud Platform\\n    39.85       39.85\n",
      "11                   \\nA-1\\n   427.10      435.00\n",
      "12             \\nD&H India\\n   248.20      256.50\n",
      "13       \\nTrident Texofab\\n   183.35      190.00\n",
      "14    \\nBhatia Colour Chem\\n   270.20      288.60\n"
     ]
    }
   ],
   "source": [
    "import requests\n",
    "import pandas as pd\n",
    "from bs4 import BeautifulSoup\n",
    "\n",
    "url=\"https://ticker.finology.in\"\n",
    "r=requests.get(url)\n",
    "\n",
    "soup=BeautifulSoup(r.text,\"lxml\")\n",
    "table= soup.find(\"table\", class_=\"table table-sm table-hover screenertable\")\n",
    "\n",
    "\n",
    "headers=table.find_all(\"th\")\n",
    "# print(headers)\n",
    "\n",
    "titles=[]\n",
    "\n",
    "for i in headers:\n",
    "    title=i.text\n",
    "    titles.append(title)\n",
    "df=pd.DataFrame(columns=titles)\n",
    "# print(df)\n",
    "\n",
    "rows=table.find_all(\"tr\")\n",
    "\n",
    "for i in rows[1:]:\n",
    "    data= i.find_all(\"td\")\n",
    "    row=[tr.text for tr in data]\n",
    "    l=len(df)\n",
    "    df.loc[l]=row\n",
    "print(df)\n",
    "df.to_csv(\"stock.csv\")\n",
    "    \n",
    "    \n",
    "    "
   ]
  },
  {
   "cell_type": "code",
   "execution_count": 93,
   "id": "6752c7e0-f1a3-4d37-905f-d76d1b4aaa2c",
   "metadata": {
    "collapsed": true,
    "jupyter": {
     "outputs_hidden": true,
     "source_hidden": true
    }
   },
   "outputs": [
    {
     "name": "stdout",
     "output_type": "stream",
     "text": [
      "Empty DataFrame\n",
      "Columns: [SR. NO., TEAM, FUNDS REMAINING, OVERSEAS PLAYERS , TOTAL PLAYERS]\n",
      "Index: []\n",
      "                       SR. NO.                                       TEAM  \\\n",
      "0          Chennai Super Kings          \\n\\n\\n\\n\\nChennai Super Kings\\n\\n   \n",
      "1               Delhi Capitals               \\n\\n\\n\\n\\nDelhi Capitals\\n\\n   \n",
      "2               Gujarat Titans               \\n\\n\\n\\n\\nGujarat Titans\\n\\n   \n",
      "3        Kolkata Knight Riders        \\n\\n\\n\\n\\nKolkata Knight Riders\\n\\n   \n",
      "4         Lucknow Super Giants         \\n\\n\\n\\n\\nLucknow Super Giants\\n\\n   \n",
      "5               Mumbai Indians               \\n\\n\\n\\n\\nMumbai Indians\\n\\n   \n",
      "6                 Punjab Kings                 \\n\\n\\n\\n\\nPunjab Kings\\n\\n   \n",
      "7             Rajasthan Royals             \\n\\n\\n\\n\\nRajasthan Royals\\n\\n   \n",
      "8  Royal Challengers Bangalore  \\n\\n\\n\\n\\nRoyal Challengers Bangalore\\n\\n   \n",
      "9          Sunrisers Hyderabad          \\n\\n\\n\\n\\nSunrisers Hyderabad\\n\\n   \n",
      "\n",
      "  FUNDS REMAINING OVERSEAS PLAYERS  TOTAL PLAYERS  \n",
      "0    ₹2,95,00,000                 8            25  \n",
      "1      ₹10,00,000                 7            24  \n",
      "2      ₹15,00,000                 8            23  \n",
      "3      ₹45,00,000                 8            25  \n",
      "4              ₹0                 7            21  \n",
      "5      ₹10,00,000                 8            25  \n",
      "6    ₹3,45,00,000                 7            25  \n",
      "7      ₹95,00,000                 8            24  \n",
      "8    ₹1,55,00,000                 8            22  \n",
      "9      ₹10,00,000                 8            23  \n"
     ]
    }
   ],
   "source": [
    "# tata iple\n",
    "import requests\n",
    "import pandas as pd\n",
    "from bs4 import BeautifulSoup\n",
    "url=\"https://www.iplt20.com/auction/2022\"\n",
    "r=requests.get(url)\n",
    "soup=BeautifulSoup(r.text,\"lxml\")\n",
    "table=soup.find(\"table\",class_=\"ih-td-tab auction-tbl\")\n",
    "\n",
    "headers=table.find_all(\"th\")\n",
    "\n",
    "titles=[]\n",
    "for i in headers:\n",
    "    title=i.text\n",
    "    titles.append(title)\n",
    "df=pd.DataFrame(columns=titles)\n",
    "print(df)\n",
    "\n",
    "rows= table.find_all(\"tr\")\n",
    "for i in rows[1:]:\n",
    "    first_td=i.find_all(\"td\")[1].find(\"div\",class_=\"ih-pt-ic\").text.strip()\n",
    "    data=i.find_all(\"td\")[1:]\n",
    "    row=[tr.text for tr in data]\n",
    "    row.insert(0,first_td)\n",
    "    l=len(df)\n",
    "    df.loc[l]=row\n",
    "print(df)\n",
    "df.to_csv(\"ipl.csv\")\n",
    "\n"
   ]
  },
  {
   "cell_type": "code",
   "execution_count": 107,
   "id": "57cac5e8-cec0-4d85-a11a-420b632ecf22",
   "metadata": {
    "collapsed": true,
    "jupyter": {
     "outputs_hidden": true,
     "source_hidden": true
    }
   },
   "outputs": [
    {
     "name": "stdout",
     "output_type": "stream",
     "text": [
      "['LAVA Blaze X (Starlight Purple, 128 GB)', 'SAMSUNG Galaxy Z Flip5 (Mint, 256 GB)', 'OPPO Find X8 Pro 5G (Pearl White, 512 GB)', 'OPPO Find X8 Pro 5G (Space Black, 512 GB)', 'Apple iPhone 15 (Blue, 512 GB)', 'SAMSUNG Galaxy Z Fold5 (Phantom Black, 256 GB)', 'SAMSUNG Galaxy Z Fold5 (Cream, 256 GB)', 'Apple iPhone 14 Plus (Yellow, 512 GB)', 'SAMSUNG Galaxy S25 Plus 5G (Silver Shadow, 512 GB)', 'SAMSUNG Galaxy S25 Plus 5G (Navy, 512 GB)', 'SAMSUNG Galaxy Z Fold5 (Icy Blue, 256 GB)', 'Apple iPhone 16 (White, 512 GB)', 'Apple iPhone 16 Plus (Black, 512 GB)', 'Apple iPhone 16 (Ultramarine, 512 GB)', 'Apple iPhone 16 Plus (Ultramarine, 512 GB)', 'Apple iPhone 16 Plus (Teal, 512 GB)', 'Apple iPhone 16 Plus (Pink, 512 GB)', 'Apple iPhone 16 (Teal, 512 GB)', 'Apple iPhone 16 (Pink, 512 GB)', 'Apple iPhone 16 Plus (White, 512 GB)', 'Apple iPhone 16 Pro Max (Black Titanium, 1 TB)', 'Apple iPhone 16 Pro (Black Titanium, 1 TB)', 'Apple iPhone 16 Pro Max (Black Titanium, 512 GB)', 'Apple iPhone 16 Pro (Black Titanium, 256 GB)']\n"
     ]
    }
   ],
   "source": [
    "# //multiple pages\n",
    "for i in range(2,11):\n",
    "    url=\"https://www.flipkart.com/search?q=mobiles+above+50000&otracker=search&otracker1=search&marketplace=FLIPKART&as-show=on&as=off&page=\"+str(i)\n",
    "    r=requests.get(url)\n",
    "    soup=BeautifulSoup(r.text,\"lxml\")\n",
    "    np=soup.find(\"a\",class_=\"_9QVEpD\").get(\"href\")\n",
    "    cnp=\"https://www.flipkart.com\"+np\n",
    "    print(cnp)\n",
    "\n"
   ]
  },
  {
   "cell_type": "code",
   "execution_count": 141,
   "id": "1fdcca23-1f15-454c-b701-e07f091ef6cf",
   "metadata": {
    "scrolled": true
   },
   "outputs": [
    {
     "name": "stdout",
     "output_type": "stream",
     "text": [
      "                                         Product_name      price  \\\n",
      "0             LAVA Blaze X (Starlight Purple, 128 GB)    ₹13,999   \n",
      "1               vivo T3x 5G (Celestial Green, 128 GB)    ₹12,499   \n",
      "2                 vivo T3x 5G (Crimson Bliss, 128 GB)    ₹13,999   \n",
      "3                 vivo T3x 5G (Crimson Bliss, 128 GB)    ₹15,499   \n",
      "4                 vivo T3x 5G (Sapphire Blue, 128 GB)    ₹13,999   \n",
      "..                                                ...        ...   \n",
      "475    Apple iPhone 16 Pro (Natural Titanium, 128 GB)  ₹1,12,900   \n",
      "476  Apple iPhone 16 Pro Max (Natural Titanium, 1 TB)  ₹1,77,900   \n",
      "477             realme C65 5G (Glowing Black, 128 GB)    ₹11,388   \n",
      "478               vivo V30 5G (Classic Black, 256 GB)    ₹32,390   \n",
      "479             realme C65 5G (Glowing Black, 128 GB)    ₹10,619   \n",
      "\n",
      "                                           description Reviews  \n",
      "0    4 GB RAM | 128 GB ROM16.94 cm (6.67 inch) Disp...       4  \n",
      "1    4 GB RAM | 128 GB ROM | Expandable Upto 1 TB17...     4.5  \n",
      "2    6 GB RAM | 128 GB ROM | Expandable Upto 1 TB17...     4.5  \n",
      "3    8 GB RAM | 128 GB ROM | Expandable Upto 1 TB17...     4.4  \n",
      "4    6 GB RAM | 128 GB ROM | Expandable Upto 1 TB17...     4.5  \n",
      "..                                                 ...     ...  \n",
      "475  128 GB ROM16.0 cm (6.3 inch) Super Retina XDR ...     4.7  \n",
      "476  1 TB ROM17.53 cm (6.9 inch) Super Retina XDR D...     4.6  \n",
      "477  6 GB RAM | 128 GB ROM | Expandable Upto 2 TB16...     4.4  \n",
      "478  8 GB RAM | 256 GB ROM17.22 cm (6.78 inch) Full...     4.5  \n",
      "479  4 GB RAM | 128 GB ROM | Expandable Upto 2 TB16...     4.2  \n",
      "\n",
      "[480 rows x 4 columns]\n"
     ]
    }
   ],
   "source": [
    "    Names=[]\n",
    "    Prices=[]\n",
    "    Descriptions=[]\n",
    "    Reviews=[]\n",
    "for i in range(1,21):\n",
    "            url=\"https://www.flipkart.com/search?q=mobiles&otracker=search&otracker1=search&marketplace=FLIPKART&as-show=on&as=off&page=\"+str(i)\n",
    "            r=requests.get(url)\n",
    "           \n",
    "            soup=BeautifulSoup(r.text,\"lxml\")\n",
    "            box=soup.find(\"div\",class_=\"DOjaWF gdgoEp\")\n",
    "            names=box.find_all(\"div\",class_=\"KzDlHZ\")\n",
    "            for i in names:\n",
    "                n=i.text\n",
    "                Names.append(n)\n",
    "            # print(len(Names))\n",
    "            \n",
    "            prices=box.find_all(\"div\", class_=\"Nx9bqj _4b5DiR\")\n",
    "            for i in prices:\n",
    "                p=i.text\n",
    "                Prices.append(p)\n",
    "            # print(len(Prices))\n",
    "        \n",
    "            desc=box.find_all(\"div\", class_=\"_6NESgJ\")\n",
    "            for i in desc:\n",
    "                d=i.text\n",
    "                Descriptions.append(d)\n",
    "            # print(len(Descriptions))\n",
    "            \n",
    "            review=box.find_all(\"div\", class_=\"XQDdHH\")\n",
    "            for i in review:\n",
    "                rew=i.text\n",
    "                Reviews.append(rew)\n",
    "                # print(len(Reviews))\n",
    "\n",
    "df= pd.DataFrame({\"Product_name\":Names,\"price\":Prices,\"description\":Descriptions,\"Reviews\":Reviews})\n",
    "print(df)\n",
    "df.to_csv(\"mobile_data.csv\")\n",
    "\n",
    "\n"
   ]
  },
  {
   "cell_type": "code",
   "execution_count": 36,
   "id": "7d88c8a1-ce42-49a9-a2d7-1d7119c08d8d",
   "metadata": {},
   "outputs": [
    {
     "name": "stdout",
     "output_type": "stream",
     "text": [
      "https://www.airbnb.co.in/s/New-Delhi--India/homes?refinement_paths%5B%5D=%2Fhomes&place_id=ChIJLbZ-NFv9DDkRzk0gTkm3wlI&adults=1&query=New%20Delhi%2C%20India&flexible_trip_lengths%5B%5D=one_week&monthly_start_date=2025-02-01&monthly_length=3&monthly_end_date=2025-05-01&search_mode=regular_search&price_filter_input_type=0&channel=EXPLORE&federated_search_session_id=bec45124-2ff6-4d90-a44a-f6bf89a51748&search_type=unknown&pagination_search=true&cursor=eyJzZWN0aW9uX29mZnNldCI6MCwiaXRlbXNfb2Zmc2V0IjoxOCwidmVyc2lvbiI6MX0%3D\n"
     ]
    }
   ],
   "source": [
    "import requests\n",
    "from bs4 import BeautifulSoup\n",
    "import pandas as pd\n",
    "url=\"https://www.airbnb.co.in/s/New-Delhi--India/homes?refinement_paths%5B%5D=%2Fhomes&place_id=ChIJLbZ-NFv9DDkRzk0gTkm3wlI&adults=1\"\n",
    "r=requests.get(url)\n",
    "soup=BeautifulSoup(r.text,\"lxml\")\n",
    "cnp=\"https://www.airbnb.co.in\"+\"/s/New-Delhi--India/homes?refinement_paths%5B%5D=%2Fhomes&place_id=ChIJLbZ-NFv9DDkRzk0gTkm3wlI&adults=1&query=New%20Delhi%2C%20India&flexible_trip_lengths%5B%5D=one_week&monthly_start_date=2025-02-01&monthly_length=3&monthly_end_date=2025-05-01&search_mode=regular_search&price_filter_input_type=0&channel=EXPLORE&federated_search_session_id=bec45124-2ff6-4d90-a44a-f6bf89a51748&search_type=unknown&pagination_search=true&cursor=eyJzZWN0aW9uX29mZnNldCI6MCwiaXRlbXNfb2Zmc2V0IjoxOCwidmVyc2lvbiI6MX0%3D\"\n",
    "print(cnp)\n",
    "url=cnp\n",
    "r=requests.get(url)\n",
    "soup=BeautifulSoup(r.text,\"lxml\")"
   ]
  },
  {
   "cell_type": "code",
   "execution_count": 37,
   "id": "dc63720f-5bcb-48c3-8b0f-c3bdee60cdc8",
   "metadata": {},
   "outputs": [
    {
     "name": "stdout",
     "output_type": "stream",
     "text": [
      "Requirement already satisfied: selenium in c:\\users\\igaur\\appdata\\local\\programs\\python\\python313\\lib\\site-packages (4.27.1)\n",
      "Requirement already satisfied: urllib3<3,>=1.26 in c:\\users\\igaur\\appdata\\local\\programs\\python\\python313\\lib\\site-packages (from urllib3[socks]<3,>=1.26->selenium) (2.3.0)\n",
      "Requirement already satisfied: trio~=0.17 in c:\\users\\igaur\\appdata\\local\\programs\\python\\python313\\lib\\site-packages (from selenium) (0.28.0)\n",
      "Requirement already satisfied: trio-websocket~=0.9 in c:\\users\\igaur\\appdata\\local\\programs\\python\\python313\\lib\\site-packages (from selenium) (0.11.1)\n",
      "Requirement already satisfied: certifi>=2021.10.8 in c:\\users\\igaur\\appdata\\local\\programs\\python\\python313\\lib\\site-packages (from selenium) (2024.12.14)\n",
      "Requirement already satisfied: typing_extensions~=4.9 in c:\\users\\igaur\\appdata\\local\\programs\\python\\python313\\lib\\site-packages (from selenium) (4.12.2)\n",
      "Requirement already satisfied: websocket-client~=1.8 in c:\\users\\igaur\\appdata\\local\\programs\\python\\python313\\lib\\site-packages (from selenium) (1.8.0)\n",
      "Requirement already satisfied: attrs>=23.2.0 in c:\\users\\igaur\\appdata\\local\\programs\\python\\python313\\lib\\site-packages (from trio~=0.17->selenium) (24.3.0)\n",
      "Requirement already satisfied: sortedcontainers in c:\\users\\igaur\\appdata\\local\\programs\\python\\python313\\lib\\site-packages (from trio~=0.17->selenium) (2.4.0)\n",
      "Requirement already satisfied: idna in c:\\users\\igaur\\appdata\\local\\programs\\python\\python313\\lib\\site-packages (from trio~=0.17->selenium) (3.10)\n",
      "Requirement already satisfied: outcome in c:\\users\\igaur\\appdata\\local\\programs\\python\\python313\\lib\\site-packages (from trio~=0.17->selenium) (1.3.0.post0)\n",
      "Requirement already satisfied: sniffio>=1.3.0 in c:\\users\\igaur\\appdata\\local\\programs\\python\\python313\\lib\\site-packages (from trio~=0.17->selenium) (1.3.1)\n",
      "Requirement already satisfied: cffi>=1.14 in c:\\users\\igaur\\appdata\\local\\programs\\python\\python313\\lib\\site-packages (from trio~=0.17->selenium) (1.17.1)\n",
      "Requirement already satisfied: wsproto>=0.14 in c:\\users\\igaur\\appdata\\local\\programs\\python\\python313\\lib\\site-packages (from trio-websocket~=0.9->selenium) (1.2.0)\n",
      "Requirement already satisfied: pysocks!=1.5.7,<2.0,>=1.5.6 in c:\\users\\igaur\\appdata\\local\\programs\\python\\python313\\lib\\site-packages (from urllib3[socks]<3,>=1.26->selenium) (1.7.1)\n",
      "Requirement already satisfied: pycparser in c:\\users\\igaur\\appdata\\local\\programs\\python\\python313\\lib\\site-packages (from cffi>=1.14->trio~=0.17->selenium) (2.22)\n",
      "Requirement already satisfied: h11<1,>=0.9.0 in c:\\users\\igaur\\appdata\\local\\programs\\python\\python313\\lib\\site-packages (from wsproto>=0.14->trio-websocket~=0.9->selenium) (0.14.0)\n"
     ]
    }
   ],
   "source": [
    "!pip install selenium"
   ]
  },
  {
   "cell_type": "code",
   "execution_count": null,
   "id": "eaba6421-4cd9-47b3-9bc0-6f70710f3de8",
   "metadata": {},
   "outputs": [],
   "source": []
  }
 ],
 "metadata": {
  "kernelspec": {
   "display_name": "Python 3 (ipykernel)",
   "language": "python",
   "name": "python3"
  },
  "language_info": {
   "codemirror_mode": {
    "name": "ipython",
    "version": 3
   },
   "file_extension": ".py",
   "mimetype": "text/x-python",
   "name": "python",
   "nbconvert_exporter": "python",
   "pygments_lexer": "ipython3",
   "version": "3.13.1"
  }
 },
 "nbformat": 4,
 "nbformat_minor": 5
}
